{
  "nbformat": 4,
  "nbformat_minor": 0,
  "metadata": {
    "colab": {
      "provenance": []
    },
    "kernelspec": {
      "name": "python3",
      "display_name": "Python 3"
    },
    "language_info": {
      "name": "python"
    }
  },
  "cells": [
    {
      "cell_type": "markdown",
      "source": [
        "# Aula de Pandas para Ciência de Dados\n"
      ],
      "metadata": {
        "id": "qU8IleHakAQg"
      }
    },
    {
      "cell_type": "markdown",
      "source": [
        "# <center>📊 Pandas: A Biblioteca Essencial para Análise de Dados em Python</center>\n",
        "\n",
        "O **Pandas** é a principal biblioteca Python para **manipulação e análise profissional de dados**. Desenvolvida como projeto *open-source*, tornou-se o padrão da indústria para trabalhar com informações estruturadas.\n",
        "\n",
        "## 🔍 Principais Características\n",
        "\n",
        "### 🏗️ Estruturas de Dados\n",
        "- `DataFrame`: Tabelas multidimensionais (como planilhas Excel avançadas)\n",
        "- `Series`: Arrays unidimensionais otimizados (colunas de dados)\n",
        "\n",
        "### ⚡ Funcionalidades-Chave\n",
        "\n",
        "```\n",
        "python\n",
        "# Exemplo de código embutido\n",
        "df = pd.DataFrame({'coluna': [1, 2, 3]})\n",
        "print(df.head())\n",
        "```\n",
        "\n"
      ],
      "metadata": {
        "id": "HGWMmAwtkSRL"
      }
    },
    {
      "cell_type": "code",
      "source": [
        "# Importação do pandas\n",
        "import pandas as pd\n",
        "import numpy as np"
      ],
      "metadata": {
        "id": "qI6pAsl1kYgp"
      },
      "execution_count": null,
      "outputs": []
    },
    {
      "cell_type": "markdown",
      "source": [
        "\n",
        "## 2. Criando DataFrames\n",
        "\n",
        "Podemos criar DataFrames a partir de diversos tipos de fontes de dados como:\n",
        "- Dicionários\n",
        "- Listas\n",
        "- Arrays NumPy\n",
        "- Arquivos externos (CSV, Excel, etc)\n"
      ],
      "metadata": {
        "id": "5u75MhIlkqNk"
      }
    },
    {
      "cell_type": "code",
      "source": [
        "# Criando um DataFrame a partir de um dicionário\n",
        "data = {\n",
        "    'Nome': ['Ana', 'João', 'Maria', 'Carlos'],\n",
        "    'Idade': [25, 30, 22, 35],\n",
        "    'Cidade': ['São Paulo', 'Rio de Janeiro', 'Belo Horizonte', 'Porto Alegre']\n",
        "}\n",
        "\n",
        "df = pd.DataFrame(data)\n",
        "df"
      ],
      "metadata": {
        "id": "5Ds0kNNCkwUB"
      },
      "execution_count": null,
      "outputs": []
    },
    {
      "cell_type": "markdown",
      "source": [],
      "metadata": {
        "id": "fJ6WyhVFCA7D"
      }
    },
    {
      "cell_type": "markdown",
      "source": [
        "## 3. Operações Básicas com DataFrames\n",
        "\n",
        "**Inspeção de Dados**"
      ],
      "metadata": {
        "id": "X61FVP3MlUOi"
      }
    },
    {
      "cell_type": "code",
      "source": [],
      "metadata": {
        "id": "Rf3J4tBn7S9y"
      },
      "execution_count": null,
      "outputs": []
    },
    {
      "cell_type": "markdown",
      "source": [
        "***Visualizações***"
      ],
      "metadata": {
        "id": "USqL3lEZ7Yvl"
      }
    },
    {
      "cell_type": "code",
      "source": [
        "# Visualizando as primeiras linhas\n",
        "print(\"Primeiras linhas:\")\n",
        "print(df.head(2))\n",
        "\n",
        "# Visualizando as últimas linhas\n",
        "print(\"\\nÚltimas linhas:\")\n",
        "print(df.tail(2))\n",
        "\n",
        "# Informações sobre o DataFrame\n",
        "print(\"\\nInformações do DataFrame:\")\n",
        "print(df.info())\n",
        "\n",
        "# Estatísticas descritivas\n",
        "print(\"\\nEstatísticas descritivas:\")\n",
        "print(df.describe())"
      ],
      "metadata": {
        "id": "sY5LKmf_lcKn"
      },
      "execution_count": null,
      "outputs": []
    },
    {
      "cell_type": "markdown",
      "source": [
        "## 4. Seleção e Indexação\n",
        "\n",
        "**Acessando partes do DataFrame**"
      ],
      "metadata": {
        "id": "UmjgpwacmtxM"
      }
    },
    {
      "cell_type": "code",
      "source": [
        "# Selecionando uma coluna\n",
        "print(\"Coluna Nome:\")\n",
        "print(df['Nome'])\n",
        "\n",
        "# Selecionando múltiplas colunas\n",
        "print(\"\\nColunas Nome e Idade:\")\n",
        "print(df[['Nome', 'Idade']])\n",
        "\n",
        "# Selecionando linhas por índice\n",
        "print(\"\\nSegunda linha:\")\n",
        "print(df.iloc[1])\n",
        "\n",
        "# Selecionando com condições\n",
        "print(\"\\nPessoas com mais de 25 anos:\")\n",
        "print(df[df['Idade'] > 25])"
      ],
      "metadata": {
        "id": "LfB-TjJjmyrK"
      },
      "execution_count": null,
      "outputs": []
    },
    {
      "cell_type": "markdown",
      "source": [
        "## 5. Lidando com Dados Faltantes\n",
        "\n",
        "***Identificação e tratamento de valores nulos***\n",
        "\n",
        "Dados faltantes (NaN - Not a Number) são comuns em análise de dados. Vamos aprender a lidar com eles."
      ],
      "metadata": {
        "id": "WefWKV01m8Bq"
      }
    },
    {
      "cell_type": "code",
      "source": [
        "# Criando DataFrame com dados faltantes\n",
        "data = {\n",
        "    'Nome': ['Ana', 'João', 'Maria', 'Carlos', None],\n",
        "    'Idade': [25, 30, None, 35, 28],\n",
        "    'Cidade': ['São Paulo', 'Rio de Janeiro', None, 'Porto Alegre', 'Curitiba']\n",
        "}\n",
        "\n",
        "df_nan = pd.DataFrame(data)\n",
        "print(\"DataFrame original:\")\n",
        "print(df_nan)\n",
        "\n",
        "# Identificando valores faltantes\n",
        "print(\"\\nValores faltantes:\")\n",
        "print(df_nan.isnull())\n",
        "\n",
        "# Removendo linhas com valores faltantes\n",
        "print(\"\\nRemovendo linhas com NaN:\")\n",
        "print(df_nan.dropna())\n",
        "\n",
        "# Preenchendo valores faltantes\n",
        "print(\"\\nPreenchendo NaN com valores padrão:\")\n",
        "print(df_nan.fillna({'Nome': 'Desconhecido', 'Idade': df_nan['Idade'].mean(), 'Cidade': 'Não informada'}))"
      ],
      "metadata": {
        "id": "GDKMqhtJnRBa"
      },
      "execution_count": null,
      "outputs": []
    },
    {
      "cell_type": "markdown",
      "source": [
        "## 6. Agregação e Agrupamento\n",
        "\n",
        "***Análise de dados agregados***\n",
        "\n",
        "Operações de agregação são essenciais para análise de dados."
      ],
      "metadata": {
        "id": "e5iJdOStnnSl"
      }
    },
    {
      "cell_type": "code",
      "source": [
        "# Criando DataFrame de exemplo\n",
        "vendas = {\n",
        "    'Vendedor': ['Ana', 'João', 'Ana', 'Carlos', 'João', 'Maria'],\n",
        "    'Produto': ['TV', 'Notebook', 'Celular', 'TV', 'Celular', 'Notebook'],\n",
        "    'Valor': [2000, 3500, 1500, 2200, 1400, 3600],\n",
        "    'Data': ['2023-01-15', '2023-01-20', '2023-01-10', '2023-02-05', '2023-02-15', '2023-03-10']\n",
        "}\n",
        "\n",
        "df_vendas = pd.DataFrame(vendas)\n",
        "df_vendas['Data'] = pd.to_datetime(df_vendas['Data'])\n",
        "\n",
        "# Agregações básicas\n",
        "print(\"Soma dos valores:\")\n",
        "print(df_vendas['Valor'].sum())\n",
        "\n",
        "print(\"\\nMédia dos valores:\")\n",
        "print(df_vendas['Valor'].mean())\n",
        "\n",
        "# Agrupamento\n",
        "print(\"\\nTotal de vendas por vendedor:\")\n",
        "print(df_vendas.groupby('Vendedor')['Valor'].sum())\n",
        "\n",
        "print(\"\\nMédia de vendas por produto:\")\n",
        "print(df_vendas.groupby('Produto')['Valor'].mean())"
      ],
      "metadata": {
        "id": "-9wWi7p4ns1n"
      },
      "execution_count": null,
      "outputs": []
    },
    {
      "cell_type": "markdown",
      "source": [
        "## 7. Visualização Básica com Pandas\n",
        "\n",
        "***Gráficos básicos com Pandas***\n",
        "\n",
        "O Pandas oferece integração com Matplotlib para visualizações simples.\n"
      ],
      "metadata": {
        "id": "v-p5Bv_mnyGW"
      }
    },
    {
      "cell_type": "code",
      "source": [
        "# Gráfico de barras\n",
        "df_vendas['Produto'].value_counts().plot(kind='bar', title='Vendas por Produto')\n",
        "\n",
        "# Histograma\n",
        "df_vendas['Valor'].plot(kind='hist', bins=5, title='Distribuição de Valores')\n",
        "\n",
        "# Boxplot\n",
        "df_vendas.boxplot(column='Valor', by='Produto')"
      ],
      "metadata": {
        "id": "SLtlwq2On12j"
      },
      "execution_count": null,
      "outputs": []
    }
  ]
}